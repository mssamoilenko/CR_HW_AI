{
  "nbformat": 4,
  "nbformat_minor": 0,
  "metadata": {
    "colab": {
      "provenance": [],
      "authorship_tag": "ABX9TyMBgMlMVT6dtxdlEcu7NPZC",
      "include_colab_link": true
    },
    "kernelspec": {
      "name": "python3",
      "display_name": "Python 3"
    },
    "language_info": {
      "name": "python"
    }
  },
  "cells": [
    {
      "cell_type": "markdown",
      "metadata": {
        "id": "view-in-github",
        "colab_type": "text"
      },
      "source": [
        "<a href=\"https://colab.research.google.com/github/mssamoilenko/1/blob/main/hw_ai_1.ipynb\" target=\"_parent\"><img src=\"https://colab.research.google.com/assets/colab-badge.svg\" alt=\"Open In Colab\"/></a>"
      ]
    },
    {
      "cell_type": "code",
      "execution_count": null,
      "metadata": {
        "id": "gRFD93D-L8iI"
      },
      "outputs": [],
      "source": []
    },
    {
      "cell_type": "markdown",
      "source": [],
      "metadata": {
        "id": "Tje1apnYMPD4"
      }
    },
    {
      "cell_type": "markdown",
      "source": [
        "Добрий день, Антон!\n",
        "\n",
        "Мене зацікавила технологія машинного навчання \"Навчання з учителем\", зокрема метод класифікації, для створення описів товарів для онлайн-магазинів та маркетплейсів. Я вважаю, що це може значно полегшити та покращити мою роботу.\n",
        "\n",
        "У зв’язку з цим, я хотіла б реалізувати мініпроєкт у цьому напрямку. Буду вдячна за інформацію та рекомендації щодо того, з чого розпочати та де шукати необхідні матеріали для реалізації цієї ідеї.\n",
        "\n",
        "З найкращими побажаннями,\n",
        "Алла"
      ],
      "metadata": {
        "id": "vL7QITNETSpN"
      }
    }
  ]
}